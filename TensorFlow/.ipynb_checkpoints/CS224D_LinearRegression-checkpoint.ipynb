{
 "cells": [
  {
   "cell_type": "markdown",
   "metadata": {},
   "source": [
    "# Data Visualization"
   ]
  },
  {
   "cell_type": "code",
   "execution_count": 1,
   "metadata": {
    "collapsed": true
   },
   "outputs": [],
   "source": [
    "import numpy as np\n",
    "import seaborn\n",
    "import matplotlib.pyplot as plt"
   ]
  },
  {
   "cell_type": "code",
   "execution_count": 2,
   "metadata": {
    "collapsed": false
   },
   "outputs": [],
   "source": [
    "# Define input data\n",
    "X_data_orig = np.arange(100, step=.1)\n",
    "y_data_orig = 2 * X_data_orig + 20 * np.sin(X_data_orig / 10)"
   ]
  },
  {
   "cell_type": "code",
   "execution_count": 3,
   "metadata": {
    "collapsed": false
   },
   "outputs": [
    {
     "data": {
      "image/png": "[encoded data removed]",
      "text/plain": [
       "<matplotlib.figure.Figure at 0x7fb2145e4eb8>"
      ]
     },
     "metadata": {},
     "output_type": "display_data"
    }
   ],
   "source": [
    "# Plot input data\n",
    "plt.scatter(X_data_orig, y_data_orig)\n",
    "plt.show()"
   ]
  },
  {
   "cell_type": "markdown",
   "metadata": {},
   "source": [
    "# Setup"
   ]
  },
  {
   "cell_type": "code",
   "execution_count": 4,
   "metadata": {
    "collapsed": true
   },
   "outputs": [],
   "source": [
    "import tensorflow as tf"
   ]
  },
  {
   "cell_type": "code",
   "execution_count": 5,
   "metadata": {
    "collapsed": true
   },
   "outputs": [],
   "source": [
    "# Define data size and batch size\n",
    "n_samples = 1000\n",
    "batch_size = 100"
   ]
  },
  {
   "cell_type": "code",
   "execution_count": 6,
   "metadata": {
    "collapsed": false
   },
   "outputs": [
    {
     "data": {
      "text/plain": [
       "(1000,)"
      ]
     },
     "execution_count": 6,
     "metadata": {},
     "output_type": "execute_result"
    }
   ],
   "source": [
    "X_data_orig.shape"
   ]
  },
  {
   "cell_type": "code",
   "execution_count": 7,
   "metadata": {
    "collapsed": true
   },
   "outputs": [],
   "source": [
    "# Tensorflow is finicky about shapes, so resize\n",
    "X_data = np.reshape(X_data_orig, (n_samples,1))\n",
    "y_data = np.reshape(y_data_orig, (n_samples,1))"
   ]
  },
  {
   "cell_type": "code",
   "execution_count": 8,
   "metadata": {
    "collapsed": false
   },
   "outputs": [
    {
     "data": {
      "text/plain": [
       "(1000, 1)"
      ]
     },
     "execution_count": 8,
     "metadata": {},
     "output_type": "execute_result"
    }
   ],
   "source": [
    "X_data.shape"
   ]
  },
  {
   "cell_type": "code",
   "execution_count": 9,
   "metadata": {
    "collapsed": false
   },
   "outputs": [],
   "source": [
    "# Define placeholders for input\n",
    "X = tf.placeholder(tf.float32, shape=(batch_size, 1))\n",
    "y = tf.placeholder(tf.float32, shape=(batch_size, 1)) "
   ]
  },
  {
   "cell_type": "markdown",
   "metadata": {},
   "source": [
    "# Loss"
   ]
  },
  {
   "cell_type": "code",
   "execution_count": 10,
   "metadata": {
    "collapsed": true
   },
   "outputs": [],
   "source": [
    "# Define variables to be learned\n",
    "with tf.variable_scope(\"linear-regression\"):\n",
    "    W = tf.get_variable(\"weights\", (1, 1), initializer=tf.random_normal_initializer())\n",
    "    b = tf.get_variable(\"bias\", (1,), initializer=tf.constant_initializer(0.0))\n",
    "    y_pred = tf.matmul(X, W) + b\n",
    "    loss = tf.reduce_sum((y - y_pred)**2 / batch_size)"
   ]
  },
  {
   "cell_type": "code",
   "execution_count": 11,
   "metadata": {
    "collapsed": false
   },
   "outputs": [
    {
     "name": "stdout",
     "output_type": "stream",
     "text": [
      "Tensor(\"linear-regression/Sum:0\", shape=(), dtype=float32)\n"
     ]
    }
   ],
   "source": [
    "print(loss)"
   ]
  },
  {
   "cell_type": "markdown",
   "metadata": {},
   "source": [
    "# Optimization"
   ]
  },
  {
   "cell_type": "code",
   "execution_count": 12,
   "metadata": {
    "collapsed": true
   },
   "outputs": [],
   "source": [
    "opt = tf.train.AdamOptimizer()\n",
    "opt_operation = opt.minimize(loss)"
   ]
  },
  {
   "cell_type": "code",
   "execution_count": 13,
   "metadata": {
    "collapsed": false,
    "scrolled": true
   },
   "outputs": [
    {
     "name": "stdout",
     "output_type": "stream",
     "text": [
      "0,1960.7882080078125\n",
      "1,2146.6171875\n",
      "2,2108.96240234375\n",
      "3,1837.0238037109375\n",
      "4,2072.281494140625\n",
      "5,2443.8408203125\n",
      "6,1949.0260009765625\n",
      "7,2078.677001953125\n",
      "8,1944.327880859375\n",
      "9,1849.70947265625\n",
      "10,1658.5263671875\n",
      "11,1821.8702392578125\n",
      "12,1886.902099609375\n",
      "13,1591.6968994140625\n",
      "14,1756.95849609375\n",
      "15,1805.9798583984375\n",
      "16,2040.53125\n",
      "17,1675.6734619140625\n",
      "18,1959.1124267578125\n",
      "19,1828.607421875\n",
      "20,2071.3720703125\n",
      "21,1642.6461181640625\n",
      "22,1700.06591796875\n",
      "23,2061.73095703125\n",
      "24,2010.447998046875\n",
      "25,1660.486328125\n",
      "26,2018.0902099609375\n",
      "27,1526.2705078125\n",
      "28,1748.2425537109375\n",
      "29,1667.3057861328125\n",
      "30,1796.7701416015625\n",
      "31,1541.635986328125\n",
      "32,1509.89404296875\n",
      "33,1613.72705078125\n",
      "34,1748.340087890625\n",
      "35,1650.44970703125\n",
      "36,1636.237548828125\n",
      "37,1870.7657470703125\n",
      "38,1486.0311279296875\n",
      "39,1563.44921875\n",
      "40,1904.4798583984375\n",
      "41,1939.9453125\n",
      "42,1996.55078125\n",
      "43,1699.0589599609375\n",
      "44,1608.2843017578125\n",
      "45,1662.655029296875\n",
      "46,1588.837890625\n",
      "47,1781.893798828125\n",
      "48,1603.3597412109375\n",
      "49,1831.206787109375\n",
      "50,1746.471923828125\n",
      "51,1819.5269775390625\n",
      "52,1715.7332763671875\n",
      "53,1700.1419677734375\n",
      "54,1731.5926513671875\n",
      "55,1682.4683837890625\n",
      "56,1682.0728759765625\n",
      "57,1532.776611328125\n",
      "58,1477.638427734375\n",
      "59,1305.4771728515625\n",
      "60,1746.964111328125\n",
      "61,1717.5054931640625\n",
      "62,1307.2064208984375\n",
      "63,1572.962890625\n",
      "64,1584.118408203125\n",
      "65,1862.12353515625\n",
      "66,1832.13330078125\n",
      "67,1369.67724609375\n",
      "68,1665.3499755859375\n",
      "69,1606.569091796875\n",
      "70,1360.4718017578125\n",
      "71,1747.002197265625\n",
      "72,1524.8951416015625\n",
      "73,1363.6683349609375\n",
      "74,1487.823974609375\n",
      "75,1671.926025390625\n",
      "76,1431.2420654296875\n",
      "77,1795.6839599609375\n",
      "78,1397.8150634765625\n",
      "79,1624.202880859375\n",
      "80,1259.08251953125\n",
      "81,1612.747314453125\n",
      "82,1798.189208984375\n",
      "83,1698.7471923828125\n",
      "84,1470.6885986328125\n",
      "85,1441.96484375\n",
      "86,1595.8927001953125\n",
      "87,1494.3992919921875\n",
      "88,1322.0570068359375\n",
      "89,1433.0614013671875\n",
      "90,1467.8145751953125\n",
      "91,1146.361328125\n",
      "92,1407.3487548828125\n",
      "93,1455.3546142578125\n",
      "94,1494.35498046875\n",
      "95,1460.6572265625\n",
      "96,1593.4951171875\n",
      "97,1655.5634765625\n",
      "98,1358.6649169921875\n",
      "99,1728.2015380859375\n",
      "100,1483.8555908203125\n",
      "101,1571.128662109375\n",
      "102,1458.8004150390625\n",
      "103,1452.62890625\n",
      "104,1738.301513671875\n",
      "105,1479.284912109375\n",
      "106,1171.1981201171875\n",
      "107,1493.7698974609375\n",
      "108,1184.4617919921875\n",
      "109,1242.1141357421875\n",
      "110,1427.14111328125\n",
      "111,1393.2069091796875\n",
      "112,1760.3453369140625\n",
      "113,1362.71484375\n",
      "114,1471.826171875\n",
      "115,1708.6234130859375\n",
      "116,1226.3681640625\n",
      "117,1780.9820556640625\n",
      "118,1609.3555908203125\n",
      "119,1479.967529296875\n",
      "120,1479.00634765625\n",
      "121,1597.95263671875\n",
      "122,1525.93701171875\n",
      "123,1529.0531005859375\n",
      "124,1245.4793701171875\n",
      "125,1227.62353515625\n",
      "126,1426.310546875\n",
      "127,1116.024658203125\n",
      "128,1605.4427490234375\n",
      "129,1271.778564453125\n",
      "130,1502.9000244140625\n",
      "131,1649.17041015625\n",
      "132,1529.5728759765625\n",
      "133,1317.6719970703125\n",
      "134,1501.4232177734375\n",
      "135,1381.92578125\n",
      "136,1153.75732421875\n",
      "137,1041.8314208984375\n",
      "138,1624.5655517578125\n",
      "139,1355.105712890625\n",
      "140,1312.6156005859375\n",
      "141,1278.024169921875\n",
      "142,1160.256103515625\n",
      "143,1313.2218017578125\n",
      "144,1298.7908935546875\n",
      "145,1300.5657958984375\n",
      "146,1183.920166015625\n",
      "147,1296.169921875\n",
      "148,1353.724609375\n",
      "149,1261.7889404296875\n",
      "150,1414.8736572265625\n",
      "151,1189.2291259765625\n",
      "152,1388.234619140625\n",
      "153,1213.435791015625\n",
      "154,1475.293212890625\n",
      "155,1151.653564453125\n",
      "156,1360.4708251953125\n",
      "157,1169.1810302734375\n",
      "158,1314.890869140625\n",
      "159,1187.8299560546875\n",
      "160,1203.3465576171875\n",
      "161,1197.7808837890625\n",
      "162,1273.486572265625\n",
      "163,1318.7930908203125\n",
      "164,1192.4083251953125\n",
      "165,1360.797607421875\n",
      "166,1195.0543212890625\n",
      "167,1172.385009765625\n",
      "168,1252.2474365234375\n",
      "169,1264.810302734375\n",
      "170,879.6676635742188\n",
      "171,1173.5067138671875\n",
      "172,1360.741943359375\n",
      "173,1336.114013671875\n",
      "174,1198.0322265625\n",
      "175,1183.249267578125\n",
      "176,1287.947265625\n",
      "177,1321.6600341796875\n",
      "178,1196.5809326171875\n",
      "179,1230.9403076171875\n",
      "180,1246.0255126953125\n",
      "181,1338.145263671875\n",
      "182,1331.8192138671875\n",
      "183,1107.3177490234375\n",
      "184,1176.7894287109375\n",
      "185,1343.579833984375\n",
      "186,1099.9742431640625\n",
      "187,1229.9742431640625\n",
      "188,1110.6416015625\n",
      "189,1142.0057373046875\n",
      "190,1036.0791015625\n",
      "191,1158.41748046875\n",
      "192,1398.663330078125\n",
      "193,1102.3173828125\n",
      "194,1262.737060546875\n",
      "195,950.698486328125\n",
      "196,1062.35791015625\n",
      "197,1097.5499267578125\n",
      "198,1046.8045654296875\n",
      "199,1231.147705078125\n",
      "200,1094.893310546875\n",
      "201,918.1987915039062\n",
      "202,1090.7098388671875\n",
      "203,892.3199462890625\n",
      "204,1031.5899658203125\n",
      "205,920.5458984375\n",
      "206,957.6630859375\n",
      "207,1146.86669921875\n",
      "208,1112.407958984375\n",
      "209,1003.8095703125\n",
      "210,1074.7471923828125\n",
      "211,1144.847412109375\n",
      "212,995.5655517578125\n",
      "213,1015.6614990234375\n",
      "214,996.648193359375\n",
      "215,830.1871948242188\n",
      "216,967.8108520507812\n",
      "217,971.97412109375\n",
      "218,1110.422119140625\n",
      "219,1028.213134765625\n",
      "220,1194.352294921875\n",
      "221,1068.10693359375\n",
      "222,1034.4345703125\n",
      "223,1104.390380859375\n",
      "224,1015.125244140625\n",
      "225,1304.9888916015625\n",
      "226,1211.8233642578125\n",
      "227,1104.344482421875\n",
      "228,1305.6370849609375\n",
      "229,1173.5543212890625\n",
      "230,1064.9271240234375\n",
      "231,1199.1478271484375\n",
      "232,1001.30029296875\n",
      "233,921.8685302734375\n",
      "234,1008.970458984375\n",
      "235,1255.30078125\n",
      "236,782.5308227539062\n",
      "237,834.6851196289062\n",
      "238,842.9591674804688\n",
      "239,1178.4434814453125\n",
      "240,933.8264770507812\n",
      "241,882.4381103515625\n",
      "242,1052.5823974609375\n",
      "243,917.371337890625\n",
      "244,956.2501220703125\n",
      "245,1131.0001220703125\n",
      "246,1069.4593505859375\n",
      "247,907.7144775390625\n",
      "248,1108.9730224609375\n",
      "249,824.2577514648438\n",
      "250,931.9496459960938\n",
      "251,886.78173828125\n",
      "252,1011.2935180664062\n",
      "253,868.9417724609375\n",
      "254,856.5643920898438\n",
      "255,888.2545776367188\n",
      "256,914.5585327148438\n",
      "257,995.9913940429688\n",
      "258,1008.4981689453125\n",
      "259,903.2597045898438\n",
      "260,909.4762573242188\n",
      "261,797.0048828125\n",
      "262,928.2880249023438\n",
      "263,832.4838256835938\n",
      "264,922.9129638671875\n",
      "265,779.1067504882812\n",
      "266,863.5775756835938\n",
      "267,1030.5223388671875\n",
      "268,879.8690185546875\n",
      "269,983.2849731445312\n",
      "270,920.1138916015625\n",
      "271,821.7809448242188\n",
      "272,877.1836547851562\n",
      "273,840.9775390625\n",
      "274,871.9872436523438\n",
      "275,785.894287109375\n",
      "276,1081.8067626953125\n",
      "277,739.0637817382812\n",
      "278,1000.0220336914062\n",
      "279,833.5458984375\n",
      "280,959.0472412109375\n",
      "281,883.6466674804688\n",
      "282,810.5989379882812\n",
      "283,899.1860961914062\n",
      "284,847.898193359375\n",
      "285,832.6094970703125\n",
      "286,1091.3056640625\n",
      "287,758.9154052734375\n",
      "288,811.7255249023438\n",
      "289,802.274169921875\n",
      "290,675.2435913085938\n",
      "291,732.8529663085938\n",
      "292,836.3218994140625\n",
      "293,806.9230346679688\n",
      "294,787.1813354492188\n",
      "295,946.32080078125\n",
      "296,976.4503784179688\n",
      "297,787.5673217773438\n",
      "298,977.591796875\n",
      "299,863.9761352539062\n",
      "300,942.3947143554688\n",
      "301,956.22119140625\n",
      "302,895.4181518554688\n",
      "303,812.1754150390625\n",
      "304,715.4112548828125\n",
      "305,896.54296875\n",
      "306,879.1742553710938\n",
      "307,812.752685546875\n",
      "308,714.3046875\n",
      "309,815.6541137695312\n",
      "310,850.5485229492188\n",
      "311,1106.4873046875\n",
      "312,777.7957763671875\n",
      "313,879.9124755859375\n",
      "314,716.3775024414062\n",
      "315,881.4559326171875\n",
      "316,722.5545654296875\n",
      "317,894.5287475585938\n",
      "318,751.302001953125\n",
      "319,762.58837890625\n",
      "320,821.642333984375\n",
      "321,693.9389038085938\n",
      "322,891.9444580078125\n",
      "323,753.153076171875\n",
      "324,755.3311767578125\n",
      "325,763.6364135742188\n",
      "326,730.6209716796875\n",
      "327,646.23486328125\n",
      "328,812.6702880859375\n",
      "329,852.1624755859375\n",
      "330,800.8396606445312\n",
      "331,753.2651977539062\n",
      "332,831.6176147460938\n",
      "333,813.8895263671875\n",
      "334,706.8543090820312\n",
      "335,743.101806640625\n",
      "336,779.9283447265625\n",
      "337,708.675048828125\n",
      "338,622.0771484375\n",
      "339,817.1419067382812\n",
      "340,850.1871337890625\n",
      "341,764.4854736328125\n",
      "342,738.2167358398438\n",
      "343,762.0559692382812\n",
      "344,759.1529541015625\n",
      "345,759.2091064453125\n",
      "346,715.3098754882812\n",
      "347,598.3909912109375\n",
      "348,809.1868896484375\n",
      "349,608.2202758789062\n",
      "350,710.069091796875\n",
      "351,794.7633056640625\n",
      "352,693.8311157226562\n",
      "353,847.669677734375\n",
      "354,725.2423095703125\n",
      "355,686.5596313476562\n",
      "356,809.3204956054688\n",
      "357,645.7396850585938\n",
      "358,725.8984375\n",
      "359,622.3602905273438\n",
      "360,668.9197998046875\n",
      "361,752.0877685546875\n",
      "362,688.0150146484375\n",
      "363,708.92626953125\n",
      "364,671.5855102539062\n",
      "365,676.3135375976562\n",
      "366,788.63037109375\n",
      "367,722.336669921875\n",
      "368,642.7963256835938\n",
      "369,859.468505859375\n",
      "370,825.3104858398438\n",
      "371,522.0029296875\n",
      "372,701.616455078125\n",
      "373,641.315673828125\n",
      "374,649.7910766601562\n",
      "375,851.4049072265625\n",
      "376,621.6515502929688\n",
      "377,621.908447265625\n",
      "378,735.3270874023438\n",
      "379,699.462158203125\n",
      "380,636.8375244140625\n",
      "381,760.0669555664062\n",
      "382,598.9550170898438\n",
      "383,748.85009765625\n",
      "384,648.580322265625\n",
      "385,628.5360717773438\n",
      "386,675.9872436523438\n",
      "387,596.494873046875\n",
      "388,631.9597778320312\n",
      "389,635.23291015625\n",
      "390,623.3362426757812\n",
      "391,665.1398315429688\n",
      "392,673.0966796875\n",
      "393,652.4820556640625\n",
      "394,665.2774658203125\n",
      "395,663.2417602539062\n",
      "396,673.0645141601562\n",
      "397,633.7989501953125\n",
      "398,754.3773193359375\n",
      "399,568.5903930664062\n",
      "400,658.5640869140625\n",
      "401,466.089599609375\n",
      "402,717.8896484375\n",
      "403,581.750732421875\n",
      "404,633.8348999023438\n",
      "405,628.0\n",
      "406,661.6270751953125\n",
      "407,598.5405883789062\n",
      "408,512.6748657226562\n",
      "409,703.9239501953125\n",
      "410,691.9996337890625\n",
      "411,576.1832885742188\n",
      "412,690.4044189453125\n",
      "413,684.7954711914062\n",
      "414,741.4282836914062\n",
      "415,553.6925048828125\n",
      "416,554.804443359375\n",
      "417,664.5234375\n",
      "418,687.6810302734375\n",
      "419,637.203125\n",
      "420,630.8531494140625\n",
      "421,557.7041625976562\n",
      "422,704.2591552734375\n",
      "423,588.5731201171875\n",
      "424,643.181884765625\n",
      "425,653.8776245117188\n",
      "426,543.2652587890625\n",
      "427,816.3790283203125\n",
      "428,569.8240356445312\n",
      "429,763.0352172851562\n",
      "430,600.5958251953125\n",
      "431,583.5799560546875\n",
      "432,564.5081176757812\n",
      "433,509.26104736328125\n",
      "434,629.484130859375\n",
      "435,582.8159790039062\n",
      "436,578.5618896484375\n",
      "437,589.3831176757812\n",
      "438,567.562744140625\n",
      "439,706.4542846679688\n",
      "440,605.6619873046875\n",
      "441,720.329833984375\n",
      "442,561.5780029296875\n",
      "443,523.7193603515625\n",
      "444,581.2439575195312\n",
      "445,564.9887084960938\n",
      "446,599.2328491210938\n",
      "447,547.781494140625\n",
      "448,644.16015625\n",
      "449,648.5601806640625\n",
      "450,698.44580078125\n",
      "451,556.300048828125\n",
      "452,511.97698974609375\n",
      "453,585.932373046875\n",
      "454,593.1454467773438\n",
      "455,604.5000610351562\n",
      "456,594.0901489257812\n",
      "457,449.44061279296875\n",
      "458,568.0686645507812\n",
      "459,570.866943359375\n",
      "460,569.812744140625\n",
      "461,542.13525390625\n",
      "462,541.2260131835938\n",
      "463,533.9801025390625\n",
      "464,466.7315979003906\n",
      "465,576.951904296875\n",
      "466,644.594482421875\n",
      "467,554.2151489257812\n",
      "468,544.7465209960938\n",
      "469,502.2405090332031\n",
      "470,678.6066284179688\n",
      "471,574.4112548828125\n",
      "472,547.6592407226562\n",
      "473,521.6004028320312\n",
      "474,468.3517761230469\n",
      "475,547.4829711914062\n",
      "476,623.8305053710938\n",
      "477,561.334716796875\n",
      "478,519.6090698242188\n",
      "479,425.5834045410156\n",
      "480,508.557861328125\n",
      "481,420.447998046875\n",
      "482,465.06243896484375\n",
      "483,456.9128112792969\n",
      "484,515.0595703125\n",
      "485,474.6916198730469\n",
      "486,502.5076904296875\n",
      "487,471.0829772949219\n",
      "488,557.7508544921875\n",
      "489,480.8857116699219\n",
      "490,405.4050598144531\n",
      "491,579.27685546875\n",
      "492,374.7851867675781\n",
      "493,519.1365966796875\n",
      "494,523.54345703125\n",
      "495,514.1529541015625\n",
      "496,507.5008239746094\n",
      "497,491.2694091796875\n",
      "498,476.6852111816406\n",
      "499,495.61553955078125\n",
      "495.61553955078125\n"
     ]
    }
   ],
   "source": [
    "with tf.Session() as sess:\n",
    "    # Initialize Variables in graph\n",
    "    sess.run(tf.global_variables_initializer())\n",
    " \n",
    "    # Gradient descent loop for 500 steps\n",
    "    for iloop in range(500):\n",
    "        # Select random minibatch\n",
    "        indices = np.random.choice(n_samples, batch_size)\n",
    "        X_batch, y_batch = X_data[indices], y_data[indices]\n",
    " \n",
    "        # Do gradient descent step\n",
    "        _, loss_val = sess.run([opt_operation, loss], feed_dict={X: X_batch, y: y_batch})\n",
    "        print(\"{0},{1}\".format(iloop, loss_val))   \n",
    "        \n",
    "    print(\"{0}\".format(loss_val))\n",
    "    W_np = sess.run(W)\n",
    "    b_np = sess.run(b)"
   ]
  },
  {
   "cell_type": "code",
   "execution_count": 14,
   "metadata": {
    "collapsed": false
   },
   "outputs": [
    {
     "name": "stdout",
     "output_type": "stream",
     "text": [
      "[[ 1.73601365]]\n",
      "[ 0.41453215]\n"
     ]
    }
   ],
   "source": [
    "print(W_np)\n",
    "print(b_np)"
   ]
  },
  {
   "cell_type": "code",
   "execution_count": 15,
   "metadata": {
    "collapsed": false
   },
   "outputs": [
    {
     "name": "stdout",
     "output_type": "stream",
     "text": [
      "1.736013650894165,0.4145321547985077\n"
     ]
    },
    {
     "data": {
      "image/png": "[encoded data removed]",
      "text/plain": [
       "<matplotlib.figure.Figure at 0x7fb1a9ba8a58>"
      ]
     },
     "metadata": {},
     "output_type": "display_data"
    }
   ],
   "source": [
    "W_plot = W_np.reshape(1,)[0]\n",
    "b_plot = b_np.reshape(1,)[0]\n",
    "\n",
    "print(\"{0},{1}\".format(W_plot, b_plot))\n",
    "\n",
    "fit = np.array([W_plot, b_plot])\n",
    "fit_fn = np.poly1d(fit) \n",
    "\n",
    "plt.plot(X_data_orig, y_data_orig, 'yo', X_data_orig, fit_fn(X_data_orig), '--k')\n",
    "plt.show()"
   ]
  },
  {
   "cell_type": "code",
   "execution_count": null,
   "metadata": {
    "collapsed": true
   },
   "outputs": [],
   "source": []
  }
 ],
 "metadata": {
  "kernelspec": {
   "display_name": "Python 3.5",
   "language": "python",
   "name": "python3"
  },
  "language_info": {
   "codemirror_mode": {
    "name": "ipython",
    "version": 3
   },
   "file_extension": ".py",
   "mimetype": "text/x-python",
   "name": "python",
   "nbconvert_exporter": "python",
   "pygments_lexer": "ipython3",
   "version": "3.5.2"
  }
 },
 "nbformat": 4,
 "nbformat_minor": 2
}
